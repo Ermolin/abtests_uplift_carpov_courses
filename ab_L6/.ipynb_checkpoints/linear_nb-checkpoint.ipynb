{
 "cells": [
  {
   "cell_type": "code",
   "execution_count": 1,
   "id": "d6a08b2d-0d8a-4775-8303-175555338831",
   "metadata": {},
   "outputs": [],
   "source": [
    "import numpy as np\n",
    "import pandas as pd\n",
    "import datetime"
   ]
  },
  {
   "cell_type": "code",
   "execution_count": null,
   "id": "b99b647f-597c-49a0-b685-fa4ff7b8d642",
   "metadata": {},
   "outputs": [],
   "source": [
    "\"\"\"Вычисляет значение линеаризованной метрики для списка пользователей в определённый период.\n",
    "    \n",
    "    df - pd.DataFrame, датафрейм с данными\n",
    "    value_name - str, название столбца со значениями для вычисления целевой метрики\n",
    "    user_id_name - str, название столбца с идентификаторами пользователей\n",
    "    list_user_id - List[int], список идентификаторов пользователей, для которых нужно посчитать метрики\n",
    "    date_name - str, название столбца с датами\n",
    "    period - dict, словарь с датами начала и конца периода, за который нужно посчитать метрики.\n",
    "        Пример, {'begin': '2020-01-01', 'end': '2020-01-08'}. Дата начала периода входит в\n",
    "        полуинтервал, а дата окончания нет, то есть '2020-01-01' <= date < '2020-01-08'.\n",
    "    metric_name - str, название полученной метрики\n",
    "    kappa - float, коэффициент в функции линеаризации.\n",
    "        Если None, то посчитать как ratio метрику по имеющимся данным.\n",
    "\n",
    "    return - pd.DataFrame, со столбцами [user_id_name, metric_name], кол-во строк должно быть равно\n",
    "        кол-ву элементов в списке list_user_id.\n",
    "    \"\"\""
   ]
  },
  {
   "cell_type": "code",
   "execution_count": 50,
   "id": "46759206-a953-4159-a979-23061a37fc26",
   "metadata": {},
   "outputs": [
    {
     "data": {
      "text/html": [
       "<div>\n",
       "<style scoped>\n",
       "    .dataframe tbody tr th:only-of-type {\n",
       "        vertical-align: middle;\n",
       "    }\n",
       "\n",
       "    .dataframe tbody tr th {\n",
       "        vertical-align: top;\n",
       "    }\n",
       "\n",
       "    .dataframe thead th {\n",
       "        text-align: right;\n",
       "    }\n",
       "</style>\n",
       "<table border=\"1\" class=\"dataframe\">\n",
       "  <thead>\n",
       "    <tr style=\"text-align: right;\">\n",
       "      <th></th>\n",
       "      <th>a</th>\n",
       "      <th>b</th>\n",
       "      <th>c</th>\n",
       "      <th>d</th>\n",
       "    </tr>\n",
       "  </thead>\n",
       "  <tbody>\n",
       "    <tr>\n",
       "      <th>0</th>\n",
       "      <td>1</td>\n",
       "      <td>4</td>\n",
       "      <td>3</td>\n",
       "      <td>2020-01-01</td>\n",
       "    </tr>\n",
       "    <tr>\n",
       "      <th>1</th>\n",
       "      <td>2</td>\n",
       "      <td>2</td>\n",
       "      <td>3</td>\n",
       "      <td>2020-01-01</td>\n",
       "    </tr>\n",
       "    <tr>\n",
       "      <th>2</th>\n",
       "      <td>2</td>\n",
       "      <td>2</td>\n",
       "      <td>3</td>\n",
       "      <td>2020-01-08</td>\n",
       "    </tr>\n",
       "    <tr>\n",
       "      <th>3</th>\n",
       "      <td>1</td>\n",
       "      <td>3</td>\n",
       "      <td>3</td>\n",
       "      <td>2020-01-10</td>\n",
       "    </tr>\n",
       "    <tr>\n",
       "      <th>4</th>\n",
       "      <td>2</td>\n",
       "      <td>1</td>\n",
       "      <td>3</td>\n",
       "      <td>2020-01-10</td>\n",
       "    </tr>\n",
       "    <tr>\n",
       "      <th>5</th>\n",
       "      <td>2</td>\n",
       "      <td>2</td>\n",
       "      <td>3</td>\n",
       "      <td>2020-01-10</td>\n",
       "    </tr>\n",
       "  </tbody>\n",
       "</table>\n",
       "</div>"
      ],
      "text/plain": [
       "   a  b  c           d\n",
       "0  1  4  3  2020-01-01\n",
       "1  2  2  3  2020-01-01\n",
       "2  2  2  3  2020-01-08\n",
       "3  1  3  3  2020-01-10\n",
       "4  2  1  3  2020-01-10\n",
       "5  2  2  3  2020-01-10"
      ]
     },
     "execution_count": 50,
     "metadata": {},
     "output_type": "execute_result"
    }
   ],
   "source": [
    "df = pd.DataFrame([[1,4,3, '2020-01-01'],[2,2,3,'2020-01-01'],[2,2,3,'2020-01-08'],\n",
    "                   [1,3,3, '2020-01-10'],[2,1,3,'2020-01-10'],[2,2,3,'2020-01-10']], columns=['a','b','c','d'])\n",
    "value_name = 'b'\n",
    "user_id_name = 'a'\n",
    "list_user_id = [1,2,3,4]\n",
    "date_name = 'd'\n",
    "period = {'begin': '2020-01-01', 'end': '2020-01-09'}\n",
    "metric_name = 'metric_name_example'\n",
    "kappa = None\n",
    "df"
   ]
  },
  {
   "cell_type": "code",
   "execution_count": 51,
   "id": "c5e1bf6c-25f5-4541-94e1-0af833c9df6e",
   "metadata": {},
   "outputs": [],
   "source": [
    "def calculate_linearized_metric(\n",
    "    df, value_name, user_id_name, list_user_id, date_name, period, metric_name, kappa=None\n",
    "):\n",
    "    \n",
    "    df_filtered = (\n",
    "        df[\n",
    "            df[user_id_name].isin(list_user_id)\n",
    "            & (df[date_name] >= period['begin'])\n",
    "            & (df[date_name] < period['end'])\n",
    "        ]\n",
    "        \n",
    "    )\n",
    "    df_full = pd.DataFrame({user_id_name: list_user_id})\n",
    "    \n",
    "    df_agg = (\n",
    "        df_filtered\n",
    "        .groupby(user_id_name)[[value_name]].agg(['sum', 'count'])\n",
    "    )\n",
    "    df_agg.columns = df_agg.columns.get_level_values(1)\n",
    "    \n",
    "    if kappa is None:\n",
    "        kappa = df_agg['sum'].sum() / df_agg['count'].sum()\n",
    "    df_agg[metric_name] = df_agg['sum'] - kappa * df_agg['count']\n",
    "    \n",
    "    result = pd.merge(\n",
    "        df_full,\n",
    "        df_agg[[metric_name]].reset_index(),\n",
    "        on=user_id_name,\n",
    "        how='outer'\n",
    "    ).fillna(0)\n",
    "    return result"
   ]
  },
  {
   "cell_type": "code",
   "execution_count": 52,
   "id": "908a7af2-8e2e-4b4c-83c1-2c77ba9deb32",
   "metadata": {},
   "outputs": [],
   "source": [
    "df_filtered = (\n",
    "        df[\n",
    "            df[user_id_name].isin(list_user_id)\n",
    "            & (df[date_name] >= period['begin'])\n",
    "            & (df[date_name] < period['end'])\n",
    "        ]\n",
    "        \n",
    "    )\n",
    "df_full = pd.DataFrame({user_id_name: list_user_id})"
   ]
  },
  {
   "cell_type": "code",
   "execution_count": 53,
   "id": "ce128035-ab9b-4a5f-a83a-b803ea169db8",
   "metadata": {},
   "outputs": [
    {
     "data": {
      "text/html": [
       "<div>\n",
       "<style scoped>\n",
       "    .dataframe tbody tr th:only-of-type {\n",
       "        vertical-align: middle;\n",
       "    }\n",
       "\n",
       "    .dataframe tbody tr th {\n",
       "        vertical-align: top;\n",
       "    }\n",
       "\n",
       "    .dataframe thead th {\n",
       "        text-align: right;\n",
       "    }\n",
       "</style>\n",
       "<table border=\"1\" class=\"dataframe\">\n",
       "  <thead>\n",
       "    <tr style=\"text-align: right;\">\n",
       "      <th></th>\n",
       "      <th>sum</th>\n",
       "      <th>count</th>\n",
       "    </tr>\n",
       "    <tr>\n",
       "      <th>a</th>\n",
       "      <th></th>\n",
       "      <th></th>\n",
       "    </tr>\n",
       "  </thead>\n",
       "  <tbody>\n",
       "    <tr>\n",
       "      <th>1</th>\n",
       "      <td>4</td>\n",
       "      <td>1</td>\n",
       "    </tr>\n",
       "    <tr>\n",
       "      <th>2</th>\n",
       "      <td>4</td>\n",
       "      <td>2</td>\n",
       "    </tr>\n",
       "  </tbody>\n",
       "</table>\n",
       "</div>"
      ],
      "text/plain": [
       "   sum  count\n",
       "a            \n",
       "1    4      1\n",
       "2    4      2"
      ]
     },
     "execution_count": 53,
     "metadata": {},
     "output_type": "execute_result"
    }
   ],
   "source": [
    "df_agg = (\n",
    "        df_filtered\n",
    "        .groupby(user_id_name)[[value_name]].agg(['sum', 'count'])\n",
    "    )\n",
    "df_agg.columns = df_agg.columns.get_level_values(1)\n",
    "df_agg"
   ]
  },
  {
   "cell_type": "code",
   "execution_count": 54,
   "id": "781a99a1-501b-4463-aa71-769246987ca6",
   "metadata": {},
   "outputs": [],
   "source": [
    "if kappa is None:\n",
    "    kappa = df_agg['sum'].sum() / df_agg['count'].sum()\n",
    "    df_agg[metric_name] = df_agg['sum'] - kappa * df_agg['count']"
   ]
  },
  {
   "cell_type": "code",
   "execution_count": 55,
   "id": "883fbb37-dd59-4bde-97ce-356fff6c8867",
   "metadata": {},
   "outputs": [
    {
     "data": {
      "text/plain": [
       "2.6666666666666665"
      ]
     },
     "execution_count": 55,
     "metadata": {},
     "output_type": "execute_result"
    }
   ],
   "source": [
    "kappa"
   ]
  },
  {
   "cell_type": "code",
   "execution_count": 56,
   "id": "8b28f97b-d9ea-4624-bc45-a5d488653452",
   "metadata": {},
   "outputs": [
    {
     "data": {
      "text/html": [
       "<div>\n",
       "<style scoped>\n",
       "    .dataframe tbody tr th:only-of-type {\n",
       "        vertical-align: middle;\n",
       "    }\n",
       "\n",
       "    .dataframe tbody tr th {\n",
       "        vertical-align: top;\n",
       "    }\n",
       "\n",
       "    .dataframe thead th {\n",
       "        text-align: right;\n",
       "    }\n",
       "</style>\n",
       "<table border=\"1\" class=\"dataframe\">\n",
       "  <thead>\n",
       "    <tr style=\"text-align: right;\">\n",
       "      <th></th>\n",
       "      <th>sum</th>\n",
       "      <th>count</th>\n",
       "      <th>metric_name_example</th>\n",
       "    </tr>\n",
       "    <tr>\n",
       "      <th>a</th>\n",
       "      <th></th>\n",
       "      <th></th>\n",
       "      <th></th>\n",
       "    </tr>\n",
       "  </thead>\n",
       "  <tbody>\n",
       "    <tr>\n",
       "      <th>1</th>\n",
       "      <td>4</td>\n",
       "      <td>1</td>\n",
       "      <td>1.333333</td>\n",
       "    </tr>\n",
       "    <tr>\n",
       "      <th>2</th>\n",
       "      <td>4</td>\n",
       "      <td>2</td>\n",
       "      <td>-1.333333</td>\n",
       "    </tr>\n",
       "  </tbody>\n",
       "</table>\n",
       "</div>"
      ],
      "text/plain": [
       "   sum  count  metric_name_example\n",
       "a                                 \n",
       "1    4      1             1.333333\n",
       "2    4      2            -1.333333"
      ]
     },
     "execution_count": 56,
     "metadata": {},
     "output_type": "execute_result"
    }
   ],
   "source": [
    "df_agg"
   ]
  },
  {
   "cell_type": "code",
   "execution_count": 57,
   "id": "0947b36c-d843-44e1-9d8d-cddbbd77a5d4",
   "metadata": {},
   "outputs": [
    {
     "data": {
      "text/html": [
       "<div>\n",
       "<style scoped>\n",
       "    .dataframe tbody tr th:only-of-type {\n",
       "        vertical-align: middle;\n",
       "    }\n",
       "\n",
       "    .dataframe tbody tr th {\n",
       "        vertical-align: top;\n",
       "    }\n",
       "\n",
       "    .dataframe thead th {\n",
       "        text-align: right;\n",
       "    }\n",
       "</style>\n",
       "<table border=\"1\" class=\"dataframe\">\n",
       "  <thead>\n",
       "    <tr style=\"text-align: right;\">\n",
       "      <th></th>\n",
       "      <th>a</th>\n",
       "      <th>metric_name_example</th>\n",
       "    </tr>\n",
       "  </thead>\n",
       "  <tbody>\n",
       "    <tr>\n",
       "      <th>0</th>\n",
       "      <td>1</td>\n",
       "      <td>1.333333</td>\n",
       "    </tr>\n",
       "    <tr>\n",
       "      <th>1</th>\n",
       "      <td>2</td>\n",
       "      <td>-1.333333</td>\n",
       "    </tr>\n",
       "    <tr>\n",
       "      <th>2</th>\n",
       "      <td>3</td>\n",
       "      <td>0.000000</td>\n",
       "    </tr>\n",
       "    <tr>\n",
       "      <th>3</th>\n",
       "      <td>4</td>\n",
       "      <td>0.000000</td>\n",
       "    </tr>\n",
       "  </tbody>\n",
       "</table>\n",
       "</div>"
      ],
      "text/plain": [
       "   a  metric_name_example\n",
       "0  1             1.333333\n",
       "1  2            -1.333333\n",
       "2  3             0.000000\n",
       "3  4             0.000000"
      ]
     },
     "execution_count": 57,
     "metadata": {},
     "output_type": "execute_result"
    }
   ],
   "source": [
    "pd.merge(\n",
    "        df_full,\n",
    "        df_agg[[metric_name]].reset_index(),\n",
    "        on=user_id_name,\n",
    "        how='outer'\n",
    "    ).fillna(0)"
   ]
  },
  {
   "cell_type": "code",
   "execution_count": 58,
   "id": "84f7f64e-8156-4eb6-b0b3-655876a30432",
   "metadata": {},
   "outputs": [],
   "source": [
    "def filter_df( df, value_name, user_id_name, list_user_id, date_name, period, metric_name):\n",
    "    df_filtered = (\n",
    "        df[df[user_id_name].isin(list_user_id)\n",
    "            & (df[date_name] >= period['begin'])\n",
    "            & (df[date_name] < period['end'])])\n",
    "    return df_filtered\n",
    "\n",
    "\n",
    "\n",
    "def calculate_linearized_metric(\n",
    "    df, value_name, user_id_name, list_user_id, date_name, period, metric_name, kappa=None\n",
    "):\n",
    "    df_filtered = filter_df( df, value_name, user_id_name, list_user_id, date_name, period, metric_name)\n",
    "    \n",
    "    df_full = pd.DataFrame({user_id_name: list_user_id})\n",
    "    \n",
    "    df_agg = (\n",
    "        df_filtered\n",
    "        .groupby(user_id_name)[[value_name]].agg(['sum', 'count'])\n",
    "    )\n",
    "    df_agg.columns = ['sum', 'count']\n",
    "    \n",
    "    if kappa is None:\n",
    "        kappa = df_agg['sum'].sum() / df_agg['count'].sum()\n",
    "    df_agg[metric_name] = df_agg['sum'] - kappa * df_agg['count']\n",
    "    \n",
    "    result = pd.merge(\n",
    "        df_full,\n",
    "        df_agg[[metric_name]].reset_index(),\n",
    "        on=user_id_name,\n",
    "        how='outer'\n",
    "    ).fillna(0)\n",
    "    return result"
   ]
  },
  {
   "cell_type": "code",
   "execution_count": 59,
   "id": "10896640-8f1c-4a9c-a3c2-ff66256b0f19",
   "metadata": {},
   "outputs": [
    {
     "data": {
      "text/html": [
       "<div>\n",
       "<style scoped>\n",
       "    .dataframe tbody tr th:only-of-type {\n",
       "        vertical-align: middle;\n",
       "    }\n",
       "\n",
       "    .dataframe tbody tr th {\n",
       "        vertical-align: top;\n",
       "    }\n",
       "\n",
       "    .dataframe thead th {\n",
       "        text-align: right;\n",
       "    }\n",
       "</style>\n",
       "<table border=\"1\" class=\"dataframe\">\n",
       "  <thead>\n",
       "    <tr style=\"text-align: right;\">\n",
       "      <th></th>\n",
       "      <th>a</th>\n",
       "      <th>metric_name_example</th>\n",
       "    </tr>\n",
       "  </thead>\n",
       "  <tbody>\n",
       "    <tr>\n",
       "      <th>0</th>\n",
       "      <td>1</td>\n",
       "      <td>1.333333</td>\n",
       "    </tr>\n",
       "    <tr>\n",
       "      <th>1</th>\n",
       "      <td>2</td>\n",
       "      <td>-1.333333</td>\n",
       "    </tr>\n",
       "    <tr>\n",
       "      <th>2</th>\n",
       "      <td>3</td>\n",
       "      <td>0.000000</td>\n",
       "    </tr>\n",
       "    <tr>\n",
       "      <th>3</th>\n",
       "      <td>4</td>\n",
       "      <td>0.000000</td>\n",
       "    </tr>\n",
       "  </tbody>\n",
       "</table>\n",
       "</div>"
      ],
      "text/plain": [
       "   a  metric_name_example\n",
       "0  1             1.333333\n",
       "1  2            -1.333333\n",
       "2  3             0.000000\n",
       "3  4             0.000000"
      ]
     },
     "execution_count": 59,
     "metadata": {},
     "output_type": "execute_result"
    }
   ],
   "source": [
    "calculate_linearized_metric(\n",
    "    df, value_name, user_id_name, list_user_id, date_name, period, metric_name, kappa=None\n",
    ")"
   ]
  },
  {
   "cell_type": "code",
   "execution_count": null,
   "id": "4b973268-8862-4d41-8c97-451325ffa1a5",
   "metadata": {},
   "outputs": [],
   "source": []
  }
 ],
 "metadata": {
  "kernelspec": {
   "display_name": "Python 3 (ipykernel)",
   "language": "python",
   "name": "python3"
  },
  "language_info": {
   "codemirror_mode": {
    "name": "ipython",
    "version": 3
   },
   "file_extension": ".py",
   "mimetype": "text/x-python",
   "name": "python",
   "nbconvert_exporter": "python",
   "pygments_lexer": "ipython3",
   "version": "3.9.7"
  }
 },
 "nbformat": 4,
 "nbformat_minor": 5
}
