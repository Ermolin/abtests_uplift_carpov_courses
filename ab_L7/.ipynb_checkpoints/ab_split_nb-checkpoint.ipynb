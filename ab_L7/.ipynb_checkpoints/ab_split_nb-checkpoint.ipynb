{
 "cells": [
  {
   "cell_type": "code",
   "execution_count": 14,
   "id": "6eb21d8e-cb99-4990-bc8a-fca51ca08c95",
   "metadata": {},
   "outputs": [],
   "source": [
    "import pandas as pd\n",
    "import numpy as np\n",
    "import datetime\n",
    "import hashlib"
   ]
  },
  {
   "cell_type": "code",
   "execution_count": null,
   "id": "dcf64e47-632f-41d7-9a00-fed8d1615423",
   "metadata": {},
   "outputs": [],
   "source": [
    "При инициализации класса задаются следующие параметры:\n",
    "\n",
    "count_slots — количество слотов.\n",
    "salt_one — соль для вычисления хеша при разбиении пользователей по слотам.\n",
    "salt_two — соль для вычисления хеша для разбиения на пилотную и контрольную группы.\n",
    "У класса должно быть два метода:\n",
    "\n",
    "split_experiments — получает на вход список экспериментов и распределяет их по слотам.\n",
    "process_user — получает на вход id пользователя, распределяет его в слот и присваивает ему пилотную/контрольную группу пилотов, которые есть в этом слоте.\n",
    "Атрибуты класса:\n",
    "\n",
    "count_slots — int, количество слотов.\n",
    "salt_one, salt_two — int, соли для хеширования первого и второго уровня.\n",
    "slots — массив идентификаторов слотов от 0 до count_slots - 1.\n",
    "experiments — список словарей с описанием экспериментов.\n",
    "experiment_to_slots — словарь {experiment_id: [slot, ...]}\n",
    "slot_to_experiments — словарь {slot: [experiment_id, ...]}"
   ]
  },
  {
   "cell_type": "code",
   "execution_count": null,
   "id": "f5c17e22-fab9-4c5e-b1ab-aa8e08fc5380",
   "metadata": {},
   "outputs": [],
   "source": [
    "split_experiments(self, experiments):\n",
    "        \"\"\"Устанавливает множество экспериментов, распределяет их по слотам.\n",
    "\n",
    "        Нужно определить атрибуты класса:\n",
    "            self.experiments - список словарей с экспериментами\n",
    "            self.experiment_to_slots - словарь, {эксперимент: слоты}\n",
    "            self.slot_to_experiments - словарь, {слот: эксперименты}\n",
    "        experiments - список словарей, описывающих пилот. Словари содержит три ключа:\n",
    "            experiment_id - идентификатор пилота,\n",
    "            count_slots - необходимое кол-во слотов,\n",
    "            conflict_experiments - list, идентификаторы несовместных экспериментов.\n",
    "            Пример: {'experiment_id': 'exp_16', 'count_slots': 3, 'conflict_experiments': ['exp_13']}\n",
    "        return: List[dict], список экспериментов, которые не удалось разместить по слотам.\n",
    "            Возвращает пустой список, если всем экспериментам хватило слотов.\n",
    "        \"\"\""
   ]
  },
  {
   "cell_type": "code",
   "execution_count": null,
   "id": "7ce7c46a-ea07-4e50-b520-e673668bdac2",
   "metadata": {},
   "outputs": [],
   "source": [
    "process_user(self, user_id: str):\n",
    "        \"\"\"Определяет в какие эксперименты попадает пользователь.\n",
    "\n",
    "        Сначала нужно определить слот пользователя.\n",
    "        Затем для каждого эксперимента в этом слоте выбрать пилотную или контрольную группу.\n",
    "\n",
    "        user_id - идентификатор пользователя.\n",
    "\n",
    "        return - (int, List[tuple]), слот и список пар (experiment_id, pilot/control group).\n",
    "            Example: (2, [('exp 3', 'pilot'), ('exp 5', 'control')]).\n",
    "        \"\"\""
   ]
  },
  {
   "cell_type": "code",
   "execution_count": 16,
   "id": "c0241b4f-9b67-40c4-8b63-f4e4eb359716",
   "metadata": {},
   "outputs": [],
   "source": [
    "class ABSplitter:\n",
    "    def __init__(self, count_slots, salt_one, salt_two):\n",
    "        self.count_slots = count_slots\n",
    "        self.salt_one = salt_one\n",
    "        self.salt_two = salt_two\n",
    "\n",
    "        self.slots = np.arange(count_slots)\n",
    "        self.experiments = []\n",
    "        self.experiment_to_slots = dict()\n",
    "        self.slot_to_experiments = dict()\n",
    "\n",
    "    def split_experiments(self, experiments):\n",
    "        self.experiments = experiments\n",
    "        experiments_no_place = [] # will return\n",
    "        \n",
    "        experiments = sorted(experiments,key=lambda x: len(x['conflict_experiments']),reverse=True)\n",
    "        \n",
    "        slot_to_experiments = {slot: [] for slot in self.slots}\n",
    "        experiment_to_slots = {experiment['experiment_id']: [] for experiment in experiments}\n",
    "        \n",
    "        #avalible slots\n",
    "        avalible_slots = self.slots\n",
    "        for experiment in experiments:\n",
    "            # make list of avalible slots\n",
    "            for slot_no in experiment['conflict_experiments']:\n",
    "                if slot_no in avalible_slots:\n",
    "                    avalible_slots.remove(slot_no)\n",
    "            \n",
    "            # if n avalible slots less than needed n - exp has no place\n",
    "            if experiment['count_slots'] > len(available_slots):\n",
    "                experiments_no_place.append(experiment)\n",
    "                continue\n",
    "            \n",
    "            # random shuffle and select n slots\n",
    "            experiment_slots = np.random.shuffle(avalible_slots)[:experiment['count_slots']]\n",
    "            experiment_to_slots[experiment['experiment_id']] = experiment_slots\n",
    "            for slot in experiment_slots:\n",
    "                slot_to_experiments[slot].append(experiment['experiment_id'])\n",
    "        \n",
    "        #save new values\n",
    "        self.slot_to_experiments = slot_to_experiments\n",
    "        self.experiment_to_slots = experiment_to_slots   \n",
    "            \n",
    "        return experiments_no_place\n",
    "        \n",
    "    # add extra function for hash  (str+ salt) % modulo spliting\n",
    "    def get_hash_modulo(self,\n",
    "                         value: str,\n",
    "                         modulo: int,\n",
    "                         salt: str):\n",
    "        \n",
    "        hash_value = int(hashlib.md5(str.encode(value)).hexdigest(), 16)\n",
    "        return (hash_value + salt) % modulo\n",
    "    \n",
    "    \n",
    "    def process_user(self, user_id: str):\n",
    "        slot = self.get_hash_modulo(user_id, self.count_slots, str(self.salt_one))\n",
    "        experiments = self.slot_to_experiments[slot]\n",
    "        \n",
    "        # agg experiments from list of exp_ids we take from self.slot_to_experiments dict\n",
    "        all_experimens_w_slot = [\n",
    "            experiment for experiment in self.experiments\n",
    "            if experiment['experiment_id'] in experiments\n",
    "        ]\n",
    "        \n",
    "        twice_splited_groups=[]\n",
    "        for experiment in all_experimens_w_slot:\n",
    "            group = 'pilot' if self._get_hash_modulo(user_id + experiment['experiment_id'], 2, str(self.salt_two)) else 'control'\n",
    "            twice_splited_groups.append((experiment['experiment_id'], group))\n",
    "        \n",
    "        return (slot, twice_splited_groups)"
   ]
  },
  {
   "cell_type": "code",
   "execution_count": 2,
   "id": "5c984e62-b2ea-4877-b800-fa233e2c2d83",
   "metadata": {},
   "outputs": [],
   "source": [
    "experiments=[{'experiment_id': 'exp_16', 'count_slots': 3, 'conflict_experiments': ['exp_13']},\n",
    "             {'experiment_id': 'exp_10', 'count_slots': 3, 'conflict_experiments': ['exp_16','exp_13']},\n",
    "             {'experiment_id': 'exp_13', 'count_slots': 3, 'conflict_experiments': []}]"
   ]
  },
  {
   "cell_type": "code",
   "execution_count": 13,
   "id": "eeeb923f-8bb2-4a6f-be7b-fa9d21d52a8f",
   "metadata": {},
   "outputs": [
    {
     "data": {
      "text/plain": [
       "[{'experiment_id': 'exp_10',\n",
       "  'count_slots': 3,\n",
       "  'conflict_experiments': ['exp_16', 'exp_13']},\n",
       " {'experiment_id': 'exp_16',\n",
       "  'count_slots': 3,\n",
       "  'conflict_experiments': ['exp_13']},\n",
       " {'experiment_id': 'exp_13', 'count_slots': 3, 'conflict_experiments': []}]"
      ]
     },
     "execution_count": 13,
     "metadata": {},
     "output_type": "execute_result"
    }
   ],
   "source": [
    "sorted(experiments,key=lambda x: len(x['conflict_experiments']),reverse=True)"
   ]
  },
  {
   "cell_type": "code",
   "execution_count": 5,
   "id": "46dacbd5-029e-4b1a-a097-81d37d94f7b0",
   "metadata": {},
   "outputs": [
    {
     "data": {
      "text/plain": [
       "['b', 'c']"
      ]
     },
     "execution_count": 5,
     "metadata": {},
     "output_type": "execute_result"
    }
   ],
   "source": [
    "a= ['a','b','c']\n",
    "if 'a' in a:\n",
    "    a.remove('a')\n",
    "a"
   ]
  },
  {
   "cell_type": "code",
   "execution_count": 18,
   "id": "72d8ff1a-11f7-4af1-a893-0786cd64e5a4",
   "metadata": {},
   "outputs": [],
   "source": [
    "import ab_split_by_hash"
   ]
  },
  {
   "cell_type": "code",
   "execution_count": 20,
   "id": "70a6f018-c7b2-452a-a6c1-2bcacbe1d05e",
   "metadata": {},
   "outputs": [],
   "source": [
    "a = ab_split_by_hash.ABSplitter(count_slots=10\n",
    ",salt_one= '1'\n",
    ",salt_two='2')"
   ]
  },
  {
   "cell_type": "code",
   "execution_count": 21,
   "id": "d8beac59-75a0-4d1b-979a-2622faf73087",
   "metadata": {},
   "outputs": [
    {
     "name": "stderr",
     "output_type": "stream",
     "text": [
      "/Users/user/Desktop/carpov_courses/AB_tests/MY WORKS/L7/ab_split_by_hash.py:31: FutureWarning: elementwise comparison failed; returning scalar instead, but in the future will perform elementwise comparison\n",
      "  if slot_no in avalible_slots:\n"
     ]
    },
    {
     "ename": "NameError",
     "evalue": "name 'experiment' is not defined",
     "output_type": "error",
     "traceback": [
      "\u001b[0;31m---------------------------------------------------------------------------\u001b[0m",
      "\u001b[0;31mNameError\u001b[0m                                 Traceback (most recent call last)",
      "\u001b[0;32m/var/folders/7x/_d1q182d4ys370m0lsmdjd640000gn/T/ipykernel_2041/2857311539.py\u001b[0m in \u001b[0;36m<module>\u001b[0;34m\u001b[0m\n\u001b[0;32m----> 1\u001b[0;31m \u001b[0ma\u001b[0m\u001b[0;34m.\u001b[0m\u001b[0msplit_experiments\u001b[0m\u001b[0;34m(\u001b[0m\u001b[0mexperiments\u001b[0m\u001b[0;34m)\u001b[0m\u001b[0;34m\u001b[0m\u001b[0;34m\u001b[0m\u001b[0m\n\u001b[0m",
      "\u001b[0;32m~/Desktop/carpov_courses/AB_tests/MY WORKS/L7/ab_split_by_hash.py\u001b[0m in \u001b[0;36msplit_experiments\u001b[0;34m(self, experiments)\u001b[0m\n\u001b[1;32m     33\u001b[0m \u001b[0;34m\u001b[0m\u001b[0m\n\u001b[1;32m     34\u001b[0m             \u001b[0;31m# if n avalible slots less than needed n - exp has no place\u001b[0m\u001b[0;34m\u001b[0m\u001b[0;34m\u001b[0m\u001b[0m\n\u001b[0;32m---> 35\u001b[0;31m             \u001b[0;32mif\u001b[0m \u001b[0mexperiment\u001b[0m\u001b[0;34m[\u001b[0m\u001b[0;34m'count_slots'\u001b[0m\u001b[0;34m]\u001b[0m \u001b[0;34m>\u001b[0m \u001b[0mlen\u001b[0m\u001b[0;34m(\u001b[0m\u001b[0mavailable_slots\u001b[0m\u001b[0;34m)\u001b[0m\u001b[0;34m:\u001b[0m\u001b[0;34m\u001b[0m\u001b[0;34m\u001b[0m\u001b[0m\n\u001b[0m\u001b[1;32m     36\u001b[0m                 \u001b[0mexperiments_no_place\u001b[0m\u001b[0;34m.\u001b[0m\u001b[0mappend\u001b[0m\u001b[0;34m(\u001b[0m\u001b[0mexperiment\u001b[0m\u001b[0;34m)\u001b[0m\u001b[0;34m\u001b[0m\u001b[0;34m\u001b[0m\u001b[0m\n\u001b[1;32m     37\u001b[0m                 \u001b[0;32mcontinue\u001b[0m\u001b[0;34m\u001b[0m\u001b[0;34m\u001b[0m\u001b[0m\n",
      "\u001b[0;31mNameError\u001b[0m: name 'experiment' is not defined"
     ]
    }
   ],
   "source": [
    "a.split_experiments(experiments)"
   ]
  },
  {
   "cell_type": "code",
   "execution_count": null,
   "id": "0e288f77-0213-4131-b56d-d0349ad0c205",
   "metadata": {},
   "outputs": [],
   "source": []
  }
 ],
 "metadata": {
  "kernelspec": {
   "display_name": "Python 3 (ipykernel)",
   "language": "python",
   "name": "python3"
  },
  "language_info": {
   "codemirror_mode": {
    "name": "ipython",
    "version": 3
   },
   "file_extension": ".py",
   "mimetype": "text/x-python",
   "name": "python",
   "nbconvert_exporter": "python",
   "pygments_lexer": "ipython3",
   "version": "3.9.7"
  }
 },
 "nbformat": 4,
 "nbformat_minor": 5
}
