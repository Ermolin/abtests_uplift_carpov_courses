{
 "cells": [
  {
   "cell_type": "code",
   "execution_count": 3,
   "id": "c094053c-9c90-457e-a3b0-d96f7a6d92ea",
   "metadata": {},
   "outputs": [],
   "source": [
    "import numpy as np\n",
    "import pandas as pd\n",
    "import datetime"
   ]
  },
  {
   "cell_type": "code",
   "execution_count": null,
   "id": "f725d51f-c97c-4ad7-9b97-53a57b789f43",
   "metadata": {},
   "outputs": [],
   "source": [
    "    \"\"\"Вычисляет значение метрики для списка пользователей в определённый период.\n",
    "    \n",
    "    df - pd.DataFrame, датафрейм с данными\n",
    "    value_name - str, название столбца со значениями для вычисления целевой метрики\n",
    "    user_id_name - str, название столбца с идентификаторами пользователей\n",
    "    list_user_id - List[int], список идентификаторов пользователей, для которых нужно посчитать метрики\n",
    "    date_name - str, название столбца с датами\n",
    "    period - dict, словарь с датами начала и конца периода, за который нужно посчитать метрики.\n",
    "        Пример, {'begin': '2020-01-01', 'end': '2020-01-08'}. Дата начала периода входит нужный\n",
    "        полуинтервал, а дата окончание нет, то есть '2020-01-01' <= date < '2020-01-08'.\n",
    "    metric_name - str, название полученной метрики\n",
    "\n",
    "    return - pd.DataFrame, со столбцами [user_id_name, metric_name], кол-во строк должно быть равно\n",
    "        кол-ву элементов в списке list_user_id.\n",
    "    \"\"\""
   ]
  },
  {
   "cell_type": "code",
   "execution_count": 64,
   "id": "9ad7130c-6352-4510-aa9c-bf218437a416",
   "metadata": {},
   "outputs": [],
   "source": [
    "## income data sample\n",
    "df = pd.DataFrame([[1,2,3, '2020-01-01'],[2,2,3,'2020-01-01'],[2,2,3,'2020-01-08'],\n",
    "                   [1,3,3, '2020-01-10'],[2,1,3,'2020-01-10'],[2,2,3,'2020-01-10']], columns=['a','b','c','d'])\n",
    "user_id_name = 'a'\n",
    "list_user_id = [1,2,3,4]\n",
    "date_name = 'd'\n",
    "period = {'begin': '2020-01-01', 'end': '2020-01-09'}\n",
    "metric_name = 'sum'\n",
    "value_name = 'b'"
   ]
  },
  {
   "cell_type": "code",
   "execution_count": 65,
   "id": "9758fce9-6de3-49fd-8a3e-d96278ac8aca",
   "metadata": {},
   "outputs": [
    {
     "data": {
      "text/plain": [
       "True"
      ]
     },
     "execution_count": 65,
     "metadata": {},
     "output_type": "execute_result"
    }
   ],
   "source": [
    "datetime.datetime.strptime('2020-01-02', \"%Y-%m-%d\").date() > datetime.datetime.strptime('2020-01-01', \"%Y-%m-%d\").date()"
   ]
  },
  {
   "cell_type": "code",
   "execution_count": 66,
   "id": "827425a5-6ee7-4480-8b95-c2080bfa8053",
   "metadata": {},
   "outputs": [],
   "source": [
    "def calculate_metric(\n",
    "    df, value_name, user_id_name, list_user_id, date_name, period, metric_name\n",
    "):\n",
    "    # date mask\n",
    "    df[date_name] = pd.to_datetime(df[date_name], format=\"%Y-%m-%d\")\n",
    "    df = df[(df[date_name] >= datetime.datetime.strptime(period['begin'], \"%Y-%m-%d\"))&\n",
    "            (df[date_name] < datetime.datetime.strptime(period['end'], \"%Y-%m-%d\"))]\n",
    "    \n",
    "    # users mask\n",
    "    df = df[df[user_id_name].isin(list_user_id)]\n",
    "    \n",
    "    # agg metric\n",
    "    agg_df = df.groupby(user_id_name)[[value_name]].sum()\\\n",
    "    .rename(columns={value_name: metric_name})\\\n",
    "    .reset_index()\n",
    "    \n",
    "    full_agg_df = pd.merge(pd.DataFrame(list_user_id, columns=[user_id_name]), agg_df, on=user_id_name, how='outer')\n",
    "    full_agg_df = full_agg_df.fillna(0)\n",
    "    return full_agg_df"
   ]
  },
  {
   "cell_type": "code",
   "execution_count": 67,
   "id": "5aa857e6-421d-42ab-a022-b743138218ca",
   "metadata": {},
   "outputs": [
    {
     "data": {
      "text/html": [
       "<div>\n",
       "<style scoped>\n",
       "    .dataframe tbody tr th:only-of-type {\n",
       "        vertical-align: middle;\n",
       "    }\n",
       "\n",
       "    .dataframe tbody tr th {\n",
       "        vertical-align: top;\n",
       "    }\n",
       "\n",
       "    .dataframe thead th {\n",
       "        text-align: right;\n",
       "    }\n",
       "</style>\n",
       "<table border=\"1\" class=\"dataframe\">\n",
       "  <thead>\n",
       "    <tr style=\"text-align: right;\">\n",
       "      <th></th>\n",
       "      <th>a</th>\n",
       "      <th>sum</th>\n",
       "    </tr>\n",
       "  </thead>\n",
       "  <tbody>\n",
       "    <tr>\n",
       "      <th>0</th>\n",
       "      <td>1</td>\n",
       "      <td>2.0</td>\n",
       "    </tr>\n",
       "    <tr>\n",
       "      <th>1</th>\n",
       "      <td>2</td>\n",
       "      <td>4.0</td>\n",
       "    </tr>\n",
       "    <tr>\n",
       "      <th>2</th>\n",
       "      <td>3</td>\n",
       "      <td>0.0</td>\n",
       "    </tr>\n",
       "    <tr>\n",
       "      <th>3</th>\n",
       "      <td>4</td>\n",
       "      <td>0.0</td>\n",
       "    </tr>\n",
       "  </tbody>\n",
       "</table>\n",
       "</div>"
      ],
      "text/plain": [
       "   a  sum\n",
       "0  1  2.0\n",
       "1  2  4.0\n",
       "2  3  0.0\n",
       "3  4  0.0"
      ]
     },
     "execution_count": 67,
     "metadata": {},
     "output_type": "execute_result"
    }
   ],
   "source": [
    "calculate_metric(\n",
    "    df, value_name, user_id_name, list_user_id, date_name, period, metric_name\n",
    ")"
   ]
  },
  {
   "cell_type": "code",
   "execution_count": 68,
   "id": "b0c80193-8e68-435b-aefd-1ecd9aeca47e",
   "metadata": {},
   "outputs": [
    {
     "data": {
      "text/plain": [
       "\"Вычисляет метрики во время пилота, коварианту и преобразованную метрику cuped.\\n    \\n    df - pd.DataFrame, датафрейм с данными\\n    value_name - str, название столбца со значениями для вычисления целевой метрики\\n    user_id_name - str, название столбца с идентификаторами пользователей\\n    list_user_id - List[int], список идентификаторов пользователей, для которых нужно посчитать метрики\\n    date_name - str, название столбца с датами\\n    periods - dict, словарь с датами начала и конца периода пилота и препилота.\\n        Пример, {\\n            'prepilot': {'begin': '2020-01-01', 'end': '2020-01-08'},\\n            'pilot': {'begin': '2020-01-08', 'end': '2020-01-15'}\\n        }.\\n        Дата начала периода входит в полуинтервал, а дата окончания нет,\\n        то есть '2020-01-01' <= date < '2020-01-08'.\\n    metric_name - str, название полученной метрики\\n\\n    return - pd.DataFrame, со столбцами\\n        [user_id_name, metric_name, f'{metric_name}_prepilot', f'{metric_name}_cuped'],\\n        кол-во строк должно быть равно кол-ву элементов в списке list_user_id.\\n    \""
      ]
     },
     "execution_count": 68,
     "metadata": {},
     "output_type": "execute_result"
    }
   ],
   "source": [
    "\"\"\"Вычисляет метрики во время пилота, коварианту и преобразованную метрику cuped.\n",
    "    \n",
    "    df - pd.DataFrame, датафрейм с данными\n",
    "    value_name - str, название столбца со значениями для вычисления целевой метрики\n",
    "    user_id_name - str, название столбца с идентификаторами пользователей\n",
    "    list_user_id - List[int], список идентификаторов пользователей, для которых нужно посчитать метрики\n",
    "    date_name - str, название столбца с датами\n",
    "    periods - dict, словарь с датами начала и конца периода пилота и препилота.\n",
    "        Пример, {\n",
    "            'prepilot': {'begin': '2020-01-01', 'end': '2020-01-08'},\n",
    "            'pilot': {'begin': '2020-01-08', 'end': '2020-01-15'}\n",
    "        }.\n",
    "        Дата начала периода входит в полуинтервал, а дата окончания нет,\n",
    "        то есть '2020-01-01' <= date < '2020-01-08'.\n",
    "    metric_name - str, название полученной метрики\n",
    "\n",
    "    return - pd.DataFrame, со столбцами\n",
    "        [user_id_name, metric_name, f'{metric_name}_prepilot', f'{metric_name}_cuped'],\n",
    "        кол-во строк должно быть равно кол-ву элементов в списке list_user_id.\n",
    "    \"\"\""
   ]
  },
  {
   "cell_type": "code",
   "execution_count": 69,
   "id": "fa999b7a-b74a-4c55-99a2-19456afdaf55",
   "metadata": {},
   "outputs": [],
   "source": [
    "periods={\n",
    "            'prepilot': {'begin': '2020-01-01', 'end': '2020-01-09'},\n",
    "            'pilot': {'begin': '2020-01-09', 'end': '2020-01-15'}\n",
    "        }"
   ]
  },
  {
   "cell_type": "code",
   "execution_count": 72,
   "id": "65d0ef70-4d31-4b63-b399-bde08c4a4fdd",
   "metadata": {},
   "outputs": [],
   "source": [
    "def calculate_metric_cuped(\n",
    "    df, value_name, user_id_name, list_user_id, date_name, periods, metric_name\n",
    "):\n",
    "    df_prepilot = calculate_metric(\n",
    "        df, value_name, user_id_name, list_user_id, date_name,\n",
    "        periods['prepilot'], metric_name\n",
    "    ).rename(columns={metric_name: f'{metric_name}_prepilot'})\n",
    "    df_pilot = calculate_metric(\n",
    "        df, value_name, user_id_name, list_user_id, date_name,\n",
    "        periods['pilot'], metric_name\n",
    "    )\n",
    "    df = pd.merge(\n",
    "        df_prepilot,\n",
    "        df_pilot,\n",
    "        on=user_id_name\n",
    "    )\n",
    "    # CUPED\n",
    "    target_values = df[metric_name].values\n",
    "    covariate_values = df[f'{metric_name}_prepilot'].values\n",
    "    covariance = np.cov(target_values, covariate_values)[0, 1]\n",
    "    variance = covariate_values.var()\n",
    "    theta = covariance / variance\n",
    "    df[f'{metric_name}_cuped'] = (\n",
    "        target_values - theta * covariate_values\n",
    "    )\n",
    "    return df"
   ]
  },
  {
   "cell_type": "code",
   "execution_count": 73,
   "id": "0d45951f-0c16-422b-8174-f6234c88a955",
   "metadata": {},
   "outputs": [
    {
     "data": {
      "text/html": [
       "<div>\n",
       "<style scoped>\n",
       "    .dataframe tbody tr th:only-of-type {\n",
       "        vertical-align: middle;\n",
       "    }\n",
       "\n",
       "    .dataframe tbody tr th {\n",
       "        vertical-align: top;\n",
       "    }\n",
       "\n",
       "    .dataframe thead th {\n",
       "        text-align: right;\n",
       "    }\n",
       "</style>\n",
       "<table border=\"1\" class=\"dataframe\">\n",
       "  <thead>\n",
       "    <tr style=\"text-align: right;\">\n",
       "      <th></th>\n",
       "      <th>a</th>\n",
       "      <th>sum_prepilot</th>\n",
       "      <th>sum</th>\n",
       "      <th>sum_cuped</th>\n",
       "    </tr>\n",
       "  </thead>\n",
       "  <tbody>\n",
       "    <tr>\n",
       "      <th>0</th>\n",
       "      <td>1</td>\n",
       "      <td>2.0</td>\n",
       "      <td>3.0</td>\n",
       "      <td>0.818182</td>\n",
       "    </tr>\n",
       "    <tr>\n",
       "      <th>1</th>\n",
       "      <td>2</td>\n",
       "      <td>4.0</td>\n",
       "      <td>3.0</td>\n",
       "      <td>-1.363636</td>\n",
       "    </tr>\n",
       "    <tr>\n",
       "      <th>2</th>\n",
       "      <td>3</td>\n",
       "      <td>0.0</td>\n",
       "      <td>0.0</td>\n",
       "      <td>0.000000</td>\n",
       "    </tr>\n",
       "    <tr>\n",
       "      <th>3</th>\n",
       "      <td>4</td>\n",
       "      <td>0.0</td>\n",
       "      <td>0.0</td>\n",
       "      <td>0.000000</td>\n",
       "    </tr>\n",
       "  </tbody>\n",
       "</table>\n",
       "</div>"
      ],
      "text/plain": [
       "   a  sum_prepilot  sum  sum_cuped\n",
       "0  1           2.0  3.0   0.818182\n",
       "1  2           4.0  3.0  -1.363636\n",
       "2  3           0.0  0.0   0.000000\n",
       "3  4           0.0  0.0   0.000000"
      ]
     },
     "execution_count": 73,
     "metadata": {},
     "output_type": "execute_result"
    }
   ],
   "source": [
    "calculate_metric_cuped(\n",
    "    df, value_name, user_id_name, list_user_id, date_name, periods, metric_name\n",
    ")"
   ]
  },
  {
   "cell_type": "code",
   "execution_count": 77,
   "id": "f9e3a584-2deb-40b4-a505-28183281c891",
   "metadata": {},
   "outputs": [],
   "source": [
    "df_prepilot = calculate_metric(\n",
    "        df, value_name, user_id_name, list_user_id, date_name,\n",
    "        periods['prepilot'], metric_name\n",
    "    ).rename(columns={metric_name: f'{metric_name}_prepilot'})\n",
    "df_pilot = calculate_metric(\n",
    "        df, value_name, user_id_name, list_user_id, date_name,\n",
    "        periods['pilot'], metric_name\n",
    "    )\n",
    "df = pd.merge(\n",
    "        df_prepilot,\n",
    "        df_pilot,\n",
    "        on=user_id_name\n",
    "    )\n",
    "target_values = df[metric_name].values\n",
    "covariate_values = df[f'{metric_name}_prepilot'].values\n",
    "covariance = np.cov(target_values, covariate_values)[0, 1]\n",
    "variance = covariate_values.var()\n",
    "theta = covariance / variance"
   ]
  },
  {
   "cell_type": "code",
   "execution_count": 78,
   "id": "98a993e4-34a5-4d88-8586-a4d94d2d2564",
   "metadata": {},
   "outputs": [
    {
     "data": {
      "text/plain": [
       "array([3., 3., 0., 0.])"
      ]
     },
     "execution_count": 78,
     "metadata": {},
     "output_type": "execute_result"
    }
   ],
   "source": [
    "target_values"
   ]
  },
  {
   "cell_type": "code",
   "execution_count": 79,
   "id": "86e580ba-7cc3-441b-8ead-6f89d6aafe0b",
   "metadata": {},
   "outputs": [
    {
     "data": {
      "text/plain": [
       "array([2., 4., 0., 0.])"
      ]
     },
     "execution_count": 79,
     "metadata": {},
     "output_type": "execute_result"
    }
   ],
   "source": [
    "covariate_values"
   ]
  },
  {
   "cell_type": "code",
   "execution_count": 80,
   "id": "f071e2dc-dd53-4a49-bf7c-e8f1b712adfc",
   "metadata": {},
   "outputs": [
    {
     "data": {
      "text/plain": [
       "3.0"
      ]
     },
     "execution_count": 80,
     "metadata": {},
     "output_type": "execute_result"
    }
   ],
   "source": [
    "covariance"
   ]
  },
  {
   "cell_type": "code",
   "execution_count": 81,
   "id": "ee0ca186-80d0-4dfd-9db9-751f4fd9dc56",
   "metadata": {},
   "outputs": [
    {
     "data": {
      "text/plain": [
       "2.75"
      ]
     },
     "execution_count": 81,
     "metadata": {},
     "output_type": "execute_result"
    }
   ],
   "source": [
    "variance"
   ]
  },
  {
   "cell_type": "code",
   "execution_count": 82,
   "id": "3abbd26c-7a2f-4fc2-8047-20230836c20f",
   "metadata": {},
   "outputs": [
    {
     "data": {
      "text/plain": [
       "1.0909090909090908"
      ]
     },
     "execution_count": 82,
     "metadata": {},
     "output_type": "execute_result"
    }
   ],
   "source": [
    "theta"
   ]
  },
  {
   "cell_type": "code",
   "execution_count": null,
   "id": "6362459a-f86b-4784-a9f6-4cbe3fb55fba",
   "metadata": {},
   "outputs": [],
   "source": []
  },
  {
   "cell_type": "code",
   "execution_count": null,
   "id": "a4b2c2de-29cf-4be3-98cd-e048be945461",
   "metadata": {},
   "outputs": [],
   "source": []
  }
 ],
 "metadata": {
  "kernelspec": {
   "display_name": "Python 3 (ipykernel)",
   "language": "python",
   "name": "python3"
  },
  "language_info": {
   "codemirror_mode": {
    "name": "ipython",
    "version": 3
   },
   "file_extension": ".py",
   "mimetype": "text/x-python",
   "name": "python",
   "nbconvert_exporter": "python",
   "pygments_lexer": "ipython3",
   "version": "3.9.7"
  }
 },
 "nbformat": 4,
 "nbformat_minor": 5
}
