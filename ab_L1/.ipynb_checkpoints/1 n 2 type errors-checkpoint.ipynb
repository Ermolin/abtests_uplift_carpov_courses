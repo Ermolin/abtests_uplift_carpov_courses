{
 "cells": [
  {
   "cell_type": "code",
   "execution_count": 1,
   "id": "0cb13d21-405d-47af-8292-fabd20863cc2",
   "metadata": {},
   "outputs": [],
   "source": [
    "import numpy as np\n",
    "import pandas as pd\n",
    "from scipy.stats import ttest_ind"
   ]
  },
  {
   "cell_type": "code",
   "execution_count": null,
   "id": "fb8a490b-a220-451f-9dbb-a43e555e297b",
   "metadata": {},
   "outputs": [],
   "source": [
    "\"\"\"Оцениваем ошибку первого рода.\n",
    "\n",
    "    Бутстрепим выборки из пилотной и контрольной групп тех же размеров, считаем долю случаев с значимыми отличиями.\n",
    "    \n",
    "    df_pilot_group - pd.DataFrame, датафрейм с данными пилотной группы\n",
    "    df_control_group - pd.DataFrame, датафрейм с данными контрольной группы\n",
    "    metric_name - str, названия столбца с метрикой\n",
    "    alpha - float, уровень значимости для статтеста\n",
    "    n_iter - int, кол-во итераций бутстрапа\n",
    "    seed - int or None, состояние генератора случайных чисел.\n",
    "\n",
    "    return - float, ошибка первого рода\n",
    "    \"\"\""
   ]
  },
  {
   "cell_type": "code",
   "execution_count": 111,
   "id": "c18e6242-7847-4458-9aba-b6524253cc49",
   "metadata": {},
   "outputs": [],
   "source": [
    "def estimate_first_type_error(df_pilot_group, df_control_group, metric_name, alpha=0.05, n_iter=10000, seed=None):\n",
    "    np.random.seed(seed)\n",
    "    # bootstrap data samples\n",
    "    pilot_df_bootstrap =  np.random.choice(df_pilot_group[metric_name],size=(len(df_pilot_group[metric_name]),n_iter))\n",
    "    control_df_bootstrap = np.random.choice(df_control_group[metric_name],size=(len(df_control_group[metric_name]),n_iter))\n",
    "    # ttest them\n",
    "    s, p= ttest_ind(a=pilot_df_bootstrap,\n",
    "          b=control_df_bootstrap,\n",
    "          axis=0,\n",
    "          equal_var=True,\n",
    "          alternative='two-sided')\n",
    "    return p[p<alpha].shape[0]/s.shape[0]"
   ]
  },
  {
   "cell_type": "code",
   "execution_count": 112,
   "id": "e6c43354-3fa7-4b34-aa87-3d00c5932c77",
   "metadata": {},
   "outputs": [],
   "source": [
    "a = pd.DataFrame(data=[i for i in np.random.normal(0,1,1000)], columns=['a'])\n",
    "b = pd.DataFrame(data=[i for i in np.random.normal(0,1,1000)], columns=['a'])"
   ]
  },
  {
   "cell_type": "code",
   "execution_count": 113,
   "id": "663331e1-0aa6-41d3-a9f5-4e815d89b5b4",
   "metadata": {},
   "outputs": [
    {
     "data": {
      "text/plain": [
       "0.436"
      ]
     },
     "execution_count": 113,
     "metadata": {},
     "output_type": "execute_result"
    }
   ],
   "source": [
    "estimate_first_type_error(a,b,'a')"
   ]
  },
  {
   "cell_type": "code",
   "execution_count": null,
   "id": "be86e01c-9320-4745-b71c-7f142deae282",
   "metadata": {},
   "outputs": [],
   "source": []
  },
  {
   "cell_type": "code",
   "execution_count": null,
   "id": "175cdba1-82f1-48b7-add4-c048542e4ada",
   "metadata": {},
   "outputs": [],
   "source": [
    "import numpy as np\n",
    "import pandas as pd\n",
    "from scipy.stats import ttest_ind\n",
    "\n",
    "\n",
    "def estimate_second_type_error(df_pilot_group, df_control_group, metric_name, effects, alpha=0.05, n_iter=10000, seed=None):\n",
    "    \"\"\"Оцениваем ошибки второго рода.\n",
    "\n",
    "    Бутстрепим выборки из пилотной и контрольной групп тех же размеров, добавляем эффект к пилотной группе,\n",
    "    считаем долю случаев без значимых отличий.\n",
    "    \n",
    "    df_pilot_group - pd.DataFrame, датафрейм с данными пилотной группы\n",
    "    df_control_group - pd.DataFrame, датафрейм с данными контрольной группы\n",
    "    metric_name - str, названия столбца с метрикой\n",
    "    effects - List[float], список размеров эффектов ([1.03] - увеличение на 3%).\n",
    "    alpha - float, уровень значимости для статтеста\n",
    "    n_iter - int, кол-во итераций бутстрапа\n",
    "    seed - int or None, состояние генератора случайных чисел\n",
    "\n",
    "    return - dict, {размер_эффекта: ошибка_второго_рода}\n",
    "    \"\"\"\n",
    "    # YOUR_CODE_HERE"
   ]
  }
 ],
 "metadata": {
  "kernelspec": {
   "display_name": "Python 3 (ipykernel)",
   "language": "python",
   "name": "python3"
  },
  "language_info": {
   "codemirror_mode": {
    "name": "ipython",
    "version": 3
   },
   "file_extension": ".py",
   "mimetype": "text/x-python",
   "name": "python",
   "nbconvert_exporter": "python",
   "pygments_lexer": "ipython3",
   "version": "3.9.7"
  }
 },
 "nbformat": 4,
 "nbformat_minor": 5
}
