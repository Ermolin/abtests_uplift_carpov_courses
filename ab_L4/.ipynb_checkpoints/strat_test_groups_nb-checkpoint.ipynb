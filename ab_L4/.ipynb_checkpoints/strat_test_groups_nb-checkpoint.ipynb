{
 "cells": [
  {
   "cell_type": "code",
   "execution_count": 42,
   "id": "5fa41ebd-649f-4bf2-9d58-85826f10c97e",
   "metadata": {},
   "outputs": [],
   "source": [
    "import numpy as np\n",
    "import pandas as pd\n",
    "import random"
   ]
  },
  {
   "cell_type": "code",
   "execution_count": null,
   "id": "2b467945-9523-44d2-af22-1b8d0dd4de39",
   "metadata": {},
   "outputs": [],
   "source": [
    "    \"\"\"Подбирает стратифицированные группы для эксперимента.\n",
    "\n",
    "    data - pd.DataFrame, датафрейм с описанием объектов, содержит атрибуты для стратификации.\n",
    "    strat_columns - List[str], список названий столбцов, по которым нужно стратифицировать.\n",
    "    group_size - int, размеры групп.\n",
    "    weights - dict, словарь весов страт {strat: weight}, где strat - либо tuple значений элементов страт,\n",
    "        например, для strat_columns=['os', 'gender', 'birth_year'] будет ('ios', 'man', 1992), либо просто строка/число.\n",
    "        Если None, определить веса пропорционально доле страт в датафрейме data.\n",
    "    seed - int, исходное состояние генератора случайных чисел для воспроизводимости\n",
    "        результатов. Если None, то состояние генератора не устанавливается.\n",
    "\n",
    "    return (data_pilot, data_control) - два датафрейма того же формата, что и data\n",
    "        c пилотной и контрольной группами."
   ]
  },
  {
   "cell_type": "code",
   "execution_count": 88,
   "id": "f74267fb-784e-4716-9200-1b84e742e256",
   "metadata": {},
   "outputs": [],
   "source": [
    "def generate_weigths(data,strat_columns):\n",
    "    #data_not_strat_cols = [i for i in data.columns if i not in strat_columns]\n",
    "    lenght = data.shape[0]\n",
    "    dt = data.groupby(strat_columns).agg(count=(strat_columns[0], 'count')).transpose().to_dict()\n",
    "    for key, val in dt.items():\n",
    "        dt[key]=dt[key]['count'] / lenght\n",
    "    return dt"
   ]
  },
  {
   "cell_type": "code",
   "execution_count": 184,
   "id": "fc16e19a-bc08-4df5-9185-46a266326957",
   "metadata": {},
   "outputs": [],
   "source": [
    "def get_indexes_dict(weights, data, strat_columns):\n",
    "    if len(strat_columns)>1 :\n",
    "        indexes_dict={}\n",
    "        for key, value in weights.items():\n",
    "            indexes = data.index\n",
    "            for val, col in zip(key, strat_columns):\n",
    "                indexes = data.loc[indexes][data[col] == val].index\n",
    "            indexes_dict[key]= indexes\n",
    "    else:\n",
    "        indexes = data.index\n",
    "        indexes_dict={}\n",
    "        for val in data[strat_columns[0]].unique():\n",
    "            indexes = data.loc[indexes][data[strat_columns] == val].index\n",
    "            indexes_dict[strat_columns[0]]= indexes\n",
    "    return indexes_dict"
   ]
  },
  {
   "cell_type": "code",
   "execution_count": 194,
   "id": "1b70c88d-c3ea-47ad-af4a-8ba2e6f0f652",
   "metadata": {
    "tags": []
   },
   "outputs": [],
   "source": [
    "def get_group(indexes_dict, data, group_size, weights):\n",
    "    if indexes_dict:\n",
    "        inds = []\n",
    "        for strat , indexes in indexes_dict.items():\n",
    "            inds+=list(data.loc[indexes].sample(n = int(np.ceil(group_size * weights[strat]))).index)\n",
    "        inds = random.sample(inds, group_size)\n",
    "    else:\n",
    "        inds = random.sample(list(data.index), group_size)\n",
    "    return data.loc[inds]"
   ]
  },
  {
   "cell_type": "code",
   "execution_count": 195,
   "id": "8918471f-f676-4685-a57b-68b4d2d366ef",
   "metadata": {},
   "outputs": [],
   "source": [
    "def select_stratified_groups(data, strat_columns, group_size, weights=None, seed=None):\n",
    "    if seed:\n",
    "        np.random.seed(seed = seed)\n",
    "    if not weights:\n",
    "        weights = generate_weigths(data,strat_columns)\n",
    "    \n",
    "    if len(strat_columns)>1 :\n",
    "        indexes_dict = get_indexes_dict(weights, data, strat_columns)\n",
    "        data_pilot = get_group(indexes_dict, data, group_size, weights)\n",
    "        data_control = get_group(indexes_dict, data, group_size, weights)\n",
    "    else:\n",
    "        data_pilot = get_group(None, data, group_size, weights)\n",
    "        data_control = get_group(None, data, group_size, weights)\n",
    "    return (data_pilot, data_control)"
   ]
  },
  {
   "cell_type": "code",
   "execution_count": 196,
   "id": "28b1e16b-9554-48f3-baf1-5625365172b9",
   "metadata": {},
   "outputs": [],
   "source": [
    "data = pd.DataFrame(np.random.choice([1,2],3*100).reshape(100,3), columns=[1,'b','c'])\n",
    "strat_columns=[1]\n",
    "weights = generate_weigths(data,strat_columns)\n",
    "seed= 25\n",
    "group_size = 80\n",
    "index_dict = get_indexes_dict(weights, data, strat_columns)"
   ]
  },
  {
   "cell_type": "code",
   "execution_count": 197,
   "id": "15ab74be-5e45-42ec-a9ec-671ffd2baf57",
   "metadata": {},
   "outputs": [
    {
     "name": "stdout",
     "output_type": "stream",
     "text": [
      "1 [1]\n"
     ]
    }
   ],
   "source": [
    "if len(strat_columns)>1 :\n",
    "    print(len(strat_columns), strat_columns)\n",
    "else:\n",
    "    print(len(strat_columns), strat_columns)"
   ]
  },
  {
   "cell_type": "code",
   "execution_count": 198,
   "id": "fe46c792-30dd-4cde-a54c-430e82c6254a",
   "metadata": {},
   "outputs": [
    {
     "name": "stdout",
     "output_type": "stream",
     "text": [
      "(22, 3) (22, 3)\n"
     ]
    }
   ],
   "source": [
    "a,b = select_stratified_groups(data, strat_columns, group_size=22, weights=None, seed=None)\n",
    "print(a.shape, b.shape)"
   ]
  },
  {
   "cell_type": "code",
   "execution_count": 199,
   "id": "bc89ecc6-665b-4b56-8ef4-b9483b1e2c52",
   "metadata": {},
   "outputs": [
    {
     "data": {
      "text/plain": [
       "{1: 0.5, 2: 0.5}"
      ]
     },
     "execution_count": 199,
     "metadata": {},
     "output_type": "execute_result"
    }
   ],
   "source": [
    "generate_weigths(data,strat_columns)"
   ]
  },
  {
   "cell_type": "code",
   "execution_count": 200,
   "id": "5481f1d1-2473-4118-b97c-0235d618d717",
   "metadata": {},
   "outputs": [
    {
     "data": {
      "text/plain": [
       "({1: 0.45454545454545453, 2: 0.5454545454545454},\n",
       " {1: 0.6363636363636364, 2: 0.36363636363636365})"
      ]
     },
     "execution_count": 200,
     "metadata": {},
     "output_type": "execute_result"
    }
   ],
   "source": [
    "generate_weigths(a,strat_columns),generate_weigths(b,strat_columns)"
   ]
  },
  {
   "cell_type": "code",
   "execution_count": null,
   "id": "dd5be476-b62c-4735-9617-73ec393a45b2",
   "metadata": {},
   "outputs": [],
   "source": []
  }
 ],
 "metadata": {
  "kernelspec": {
   "display_name": "Python 3 (ipykernel)",
   "language": "python",
   "name": "python3"
  },
  "language_info": {
   "codemirror_mode": {
    "name": "ipython",
    "version": 3
   },
   "file_extension": ".py",
   "mimetype": "text/x-python",
   "name": "python",
   "nbconvert_exporter": "python",
   "pygments_lexer": "ipython3",
   "version": "3.9.7"
  }
 },
 "nbformat": 4,
 "nbformat_minor": 5
}
